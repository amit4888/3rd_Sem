{
 "cells": [
  {
   "cell_type": "markdown",
   "id": "e9a9db0c",
   "metadata": {},
   "source": [
    "# 1. Tokenize a simple sentence using word_tokenize. (\"Natural Language Processing with Python is fun.\")"
   ]
  },
  {
   "cell_type": "code",
   "execution_count": 1,
   "id": "853ca976",
   "metadata": {},
   "outputs": [
    {
     "data": {
      "text/plain": [
       "['Natural', 'Language', 'Processing', 'with', 'Python', 'is', 'fun', '.']"
      ]
     },
     "execution_count": 1,
     "metadata": {},
     "output_type": "execute_result"
    }
   ],
   "source": [
    "from nltk.tokenize import word_tokenize\n",
    "\n",
    "sent = \"Natural Language Processing with Python is fun.\"\n",
    "word = word_tokenize(sent)\n",
    "word"
   ]
  },
  {
   "cell_type": "markdown",
   "id": "f6811ce6",
   "metadata": {},
   "source": [
    "# 2. Remove punctuation from a sentence using NLTK. (\"Hello there! How's the weather today?\")."
   ]
  },
  {
   "cell_type": "code",
   "execution_count": 5,
   "id": "94e1a198",
   "metadata": {},
   "outputs": [
    {
     "data": {
      "text/plain": [
       "'Hello there Hows the weather today'"
      ]
     },
     "execution_count": 5,
     "metadata": {},
     "output_type": "execute_result"
    }
   ],
   "source": [
    "import string\n",
    "\n",
    "exclude = string.punctuation\n",
    "\n",
    "def remove_punc(text):\n",
    "    for char in exclude:\n",
    "        text = text.replace(char,'')\n",
    "    return text\n",
    "\n",
    "text = \"Hello there! How's the weather today?\"\n",
    "\n",
    "remove_punc(text)"
   ]
  },
  {
   "cell_type": "markdown",
   "id": "dc6822c3",
   "metadata": {},
   "source": [
    "# 3. Remove stopwords from a sentence. (\"This is a simple sentence for stopword removal.\")"
   ]
  },
  {
   "cell_type": "code",
   "execution_count": 6,
   "id": "6b2740e7",
   "metadata": {},
   "outputs": [
    {
     "data": {
      "text/plain": [
       "'This simple sentence stopword removal.'"
      ]
     },
     "execution_count": 6,
     "metadata": {},
     "output_type": "execute_result"
    }
   ],
   "source": [
    "from nltk.corpus import stopwords\n",
    "\n",
    "def remove_stopwords(text):\n",
    "    new_text = []\n",
    "    \n",
    "    for word in text.split():\n",
    "        if word not in stopwords.words('english'):\n",
    "            new_text.append(word)\n",
    "            \n",
    "    return \" \".join(new_text)\n",
    "\n",
    "remove_stopwords(\"This is a simple sentence for stopword removal.\")"
   ]
  },
  {
   "cell_type": "markdown",
   "id": "055d8932",
   "metadata": {},
   "source": [
    "# 4. Perform stemming using PorterStemmer. (\"The striped bats are hanging on their feet for best.\")"
   ]
  },
  {
   "cell_type": "code",
   "execution_count": 7,
   "id": "1874ec35",
   "metadata": {},
   "outputs": [
    {
     "data": {
      "text/plain": [
       "'the stripe bat are hang on their feet for best.'"
      ]
     },
     "execution_count": 7,
     "metadata": {},
     "output_type": "execute_result"
    }
   ],
   "source": [
    "from nltk.stem.porter import PorterStemmer\n",
    "\n",
    "ps = PorterStemmer()\n",
    "\n",
    "def stem_words(text):\n",
    "    return \" \".join([ps.stem(word) for word in text.split()])\n",
    "\n",
    "sent = \"The striped bats are hanging on their feet for best.\"\n",
    "\n",
    "stem_words(sent)"
   ]
  },
  {
   "cell_type": "markdown",
   "id": "4c464079",
   "metadata": {},
   "source": [
    "# 5. Perform lemmatization using WordNetLemmatizer. (\"The geese are flying south for the winter.\")"
   ]
  },
  {
   "cell_type": "code",
   "execution_count": 8,
   "id": "a92979ee",
   "metadata": {},
   "outputs": [
    {
     "name": "stdout",
     "output_type": "stream",
     "text": [
      "word                -Lemma               \n",
      "The                 -The                 \n",
      "geese               -goose               \n",
      "are                 -are                 \n",
      "flying              -flying              \n",
      "south               -south               \n",
      "for                 -for                 \n",
      "the                 -the                 \n",
      "winter              -winter              \n"
     ]
    }
   ],
   "source": [
    "import nltk\n",
    "from nltk.stem import WordNetLemmatizer\n",
    "wordnet_lemmatizer = WordNetLemmatizer()\n",
    "\n",
    "sentence = \"The geese are flying south for the winter.\"\n",
    "\n",
    "punctuations = \"?:!.,;\"\n",
    "\n",
    "sentence_word = nltk.word_tokenize(sentence)\n",
    "\n",
    "for word in sentence_word:\n",
    "    if word in punctuations:\n",
    "        sentence_word.remove(word)\n",
    "        \n",
    "print(\"{0:20}-{1:20}\".format(\"word\",\"Lemma\"))\n",
    "\n",
    "for word in sentence_word:\n",
    "    print(\"{0:20}-{1:20}\".format(word,wordnet_lemmatizer.lemmatize(word)))"
   ]
  },
  {
   "cell_type": "markdown",
   "id": "a438713f",
   "metadata": {},
   "source": [
    "# 6. Convert text to lowercase and remove punctuation. (\"Hello, World! NLP with Python.\")"
   ]
  },
  {
   "cell_type": "code",
   "execution_count": 13,
   "id": "6992f1a9",
   "metadata": {},
   "outputs": [
    {
     "name": "stdout",
     "output_type": "stream",
     "text": [
      "lowercase:  hello, world! nlp with python.\n",
      "Remove punctuations:  Hello World NLP with Python\n"
     ]
    }
   ],
   "source": [
    "sent = \"Hello, World! NLP with Python.\"\n",
    "\n",
    "# step 1: I am converting into lowercase all the words \n",
    "\n",
    "print(\"lowercase: \",sent.lower())\n",
    "\n",
    "# step 2: Then I'll remove punctuation\n",
    "\n",
    "import string\n",
    "\n",
    "exclude = string.punctuation\n",
    "\n",
    "def remove_punc(text):\n",
    "    for char in exclude:\n",
    "        text = text.replace(char,'')\n",
    "    return text\n",
    "\n",
    "text = \"Hello, World! NLP with Python.\"\n",
    "\n",
    "print(\"Remove punctuations: \",remove_punc(text))"
   ]
  },
  {
   "cell_type": "markdown",
   "id": "88164679",
   "metadata": {},
   "source": [
    "# 7. Tokenize a sentence into sentences using sent_tokenize. (\"Hello World. This is NLTK. Let's explore NLP!\")"
   ]
  },
  {
   "cell_type": "code",
   "execution_count": 17,
   "id": "ada49e4a",
   "metadata": {},
   "outputs": [
    {
     "data": {
      "text/plain": [
       "['Hello World.', 'This is NLTK.', \"Let's explore NLP!\"]"
      ]
     },
     "execution_count": 17,
     "metadata": {},
     "output_type": "execute_result"
    }
   ],
   "source": [
    "from nltk.tokenize import sent_tokenize\n",
    "\n",
    "sent = \"Hello World. This is NLTK. Let's explore NLP!\"\n",
    "\n",
    "token_sent = sent_tokenize(sent)\n",
    "\n",
    "token_sent"
   ]
  },
  {
   "cell_type": "markdown",
   "id": "99ec292f",
   "metadata": {},
   "source": [
    "# 8. Stem words in a sentence using LancasterStemmer. (“Loving the experience of learning NLTK”)"
   ]
  },
  {
   "cell_type": "code",
   "execution_count": 18,
   "id": "8b00e3b1",
   "metadata": {},
   "outputs": [
    {
     "name": "stdout",
     "output_type": "stream",
     "text": [
      "lov\n",
      "the\n",
      "expery\n",
      "of\n",
      "learn\n",
      "nltk\n"
     ]
    }
   ],
   "source": [
    "from nltk.tokenize import word_tokenize\n",
    "var = \"Loving the experience of learning NLTK\"\n",
    "tokenize_var = word_tokenize(var)\n",
    "\n",
    "from nltk.stem import LancasterStemmer\n",
    "l = LancasterStemmer()\n",
    "for i in tokenize_var:\n",
    "    lanstemmer = l.stem(i)\n",
    "    print(lanstemmer)"
   ]
  },
  {
   "cell_type": "markdown",
   "id": "85da03cd",
   "metadata": {},
   "source": [
    "# 9. Remove both stopwords and punctuation from a sentence. (\"This is a test sentence, with stopwords and punctuation!\")"
   ]
  },
  {
   "cell_type": "code",
   "execution_count": 20,
   "id": "e8926f01",
   "metadata": {},
   "outputs": [
    {
     "data": {
      "text/plain": [
       "'This is a test sentence with stopwords and punctuation'"
      ]
     },
     "execution_count": 20,
     "metadata": {},
     "output_type": "execute_result"
    }
   ],
   "source": [
    "from nltk.corpus import stopwords\n",
    "import string\n",
    "\n",
    "# Remove Stopwords\n",
    "\n",
    "def remove_stopwords(text):\n",
    "    new_text = []\n",
    "    \n",
    "    for word in text.split():\n",
    "        if word not in stopwords.words('english'):\n",
    "            new_text.append(word)\n",
    "            \n",
    "    return \" \".join(new_text)\n",
    "\n",
    "text = \"This is a test sentence, with stopwords and punctuation!\"\n",
    "\n",
    "# Calling Function\n",
    "\n",
    "remove_stopwords(text)\n",
    "\n",
    "# Remove punctuation\n",
    "\n",
    "import string\n",
    "\n",
    "exclude = string.punctuation\n",
    "\n",
    "def remove_punc(text):\n",
    "    for char in exclude:\n",
    "        text = text.replace(char,'')\n",
    "    return text\n",
    "\n",
    "text = \"This is a test sentence, with stopwords and punctuation!\"\n",
    "\n",
    "remove_punc(text)"
   ]
  },
  {
   "cell_type": "markdown",
   "id": "f3133f99",
   "metadata": {},
   "source": [
    "# 10. Lemmatize words with their part-of-speech (POS) tag. (\"The striped bats are hanging on their feet.\")"
   ]
  },
  {
   "cell_type": "code",
   "execution_count": null,
   "id": "fa7cd78d",
   "metadata": {},
   "outputs": [],
   "source": []
  },
  {
   "cell_type": "markdown",
   "id": "2f185df1",
   "metadata": {},
   "source": [
    "# 11. Tokenize and remove stopwords, punctuation, and perform stemming. (\"Running through the forest, the fox is faster.\")"
   ]
  },
  {
   "cell_type": "code",
   "execution_count": null,
   "id": "499c81bb",
   "metadata": {},
   "outputs": [],
   "source": []
  },
  {
   "cell_type": "markdown",
   "id": "42f76318",
   "metadata": {},
   "source": [
    "# 12. Count stopwords in a sentence. (\"This is an example sentence for counting stopwords.\")"
   ]
  },
  {
   "cell_type": "code",
   "execution_count": 27,
   "id": "6e9062f1",
   "metadata": {},
   "outputs": [
    {
     "name": "stdout",
     "output_type": "stream",
     "text": [
      "Number of stopwords: 4\n"
     ]
    }
   ],
   "source": [
    "import nltk\n",
    "from nltk.corpus import stopwords\n",
    "from nltk.tokenize import word_tokenize\n",
    "\n",
    "\n",
    "# Define the sentence\n",
    "sentence = \"This is an example sentence for counting stopwords.\"\n",
    "\n",
    "# Tokenize the sentence into words\n",
    "words = word_tokenize(sentence.lower())\n",
    "\n",
    "# Get the list of English stopwords\n",
    "stop_words = set(stopwords.words('english'))\n",
    "\n",
    "# Count the stopwords\n",
    "stopword_count = sum(1 for word in words if word in stop_words)\n",
    "\n",
    "print(\"Number of stopwords:\", stopword_count)"
   ]
  },
  {
   "cell_type": "markdown",
   "id": "29715b4e",
   "metadata": {},
   "source": [
    "# 13. Perform stemming and remove punctuation using RegexTokenizer. (\"Stemming, punctuation! Removal example.\")"
   ]
  },
  {
   "cell_type": "code",
   "execution_count": null,
   "id": "2d1b5fdb",
   "metadata": {},
   "outputs": [],
   "source": []
  },
  {
   "cell_type": "markdown",
   "id": "d1c17fe8",
   "metadata": {},
   "source": [
    "# 14. Remove punctuation using regex and NLTK. (\"Punctuation removal with regex in NLP!\")"
   ]
  },
  {
   "cell_type": "code",
   "execution_count": 26,
   "id": "caf88420",
   "metadata": {},
   "outputs": [
    {
     "name": "stdout",
     "output_type": "stream",
     "text": [
      "Punctuation removal with regex in NLP\n",
      "Punctuation\n",
      "removal\n",
      "with\n",
      "regex\n",
      "in\n",
      "NLP\n"
     ]
    }
   ],
   "source": [
    "# step 1: Remove punctuation using regex\n",
    "\n",
    "import string\n",
    "import re\n",
    "\n",
    "text = \"Punctuation removal with regex in NLP!\"\n",
    "pattern = f\"[{re.escape(string.punctuation)}]\"\n",
    "remove_punc = re.sub(pattern, '',text)\n",
    "\n",
    "print(remove_punc)\n",
    "\n",
    "# step 2: remove punctuation using nltk\n",
    "\n",
    "from nltk.tokenize import word_tokenize\n",
    "tokenize_var = word_tokenize(text)\n",
    "\n",
    "from string import punctuation\n",
    "punkt_list = list(punctuation)\n",
    "punkt_list\n",
    "\n",
    "# printing values using list\n",
    "for i in tokenize_var:\n",
    "    if i not in punkt_list:\n",
    "        print(i)"
   ]
  },
  {
   "cell_type": "markdown",
   "id": "99d7562d",
   "metadata": {},
   "source": [
    "# 15. Tokenize text into words, remove stopwords, and lemmatize. (\"The dogs are barking loudly.\")"
   ]
  },
  {
   "cell_type": "code",
   "execution_count": 24,
   "id": "75ab218d",
   "metadata": {},
   "outputs": [
    {
     "name": "stdout",
     "output_type": "stream",
     "text": [
      "Tokenize words: == >  ['The', 'dogs', 'are', 'barking', 'loudly', '.']\n",
      "Remove Stopwords: ==>  The dogs barking loudly.\n",
      "word                -Lemma               \n",
      "The                 -The                 \n",
      "dogs                -dog                 \n",
      "are                 -are                 \n",
      "barking             -barking             \n",
      "loudly              -loudly              \n"
     ]
    }
   ],
   "source": [
    "# Step 1: Tokenize into words\n",
    "\n",
    "from nltk.tokenize import word_tokenize\n",
    "\n",
    "sent = \"The dogs are barking loudly.\"\n",
    "word = word_tokenize(sent)\n",
    "print(\"Tokenize words: == > \",word)\n",
    "\n",
    "# step 2: Remove stopwords\n",
    "\n",
    "from nltk.corpus import stopwords\n",
    "\n",
    "def remove_stopwords(text):\n",
    "    new_text = []\n",
    "    \n",
    "    for word in text.split():\n",
    "        if word not in stopwords.words('english'):\n",
    "            new_text.append(word)\n",
    "            \n",
    "    return \" \".join(new_text)\n",
    "\n",
    "print(\"Remove Stopwords: ==> \",remove_stopwords(\"The dogs are barking loudly.\"))\n",
    "\n",
    "# Step 3: Lemmatize \n",
    "\n",
    "import nltk\n",
    "from nltk.stem import WordNetLemmatizer\n",
    "wordnet_lemmatizer = WordNetLemmatizer()\n",
    "\n",
    "sentence = \"The dogs are barking loudly.\"\n",
    "\n",
    "punctuations = \"?:!.,;\"\n",
    "\n",
    "sentence_word = nltk.word_tokenize(sentence)\n",
    "\n",
    "for word in sentence_word:\n",
    "    if word in punctuations:\n",
    "        sentence_word.remove(word)\n",
    "        \n",
    "print(\"{0:20}-{1:20}\".format(\"word\",\"Lemma\"))\n",
    "\n",
    "for word in sentence_word:\n",
    "    print(\"{0:20}-{1:20}\".format(word,wordnet_lemmatizer.lemmatize(word)))"
   ]
  },
  {
   "cell_type": "code",
   "execution_count": null,
   "id": "9521ab79",
   "metadata": {},
   "outputs": [],
   "source": []
  },
  {
   "cell_type": "code",
   "execution_count": null,
   "id": "6fe758cb",
   "metadata": {},
   "outputs": [],
   "source": []
  }
 ],
 "metadata": {
  "kernelspec": {
   "display_name": "Python 3 (ipykernel)",
   "language": "python",
   "name": "python3"
  },
  "language_info": {
   "codemirror_mode": {
    "name": "ipython",
    "version": 3
   },
   "file_extension": ".py",
   "mimetype": "text/x-python",
   "name": "python",
   "nbconvert_exporter": "python",
   "pygments_lexer": "ipython3",
   "version": "3.11.5"
  }
 },
 "nbformat": 4,
 "nbformat_minor": 5
}
